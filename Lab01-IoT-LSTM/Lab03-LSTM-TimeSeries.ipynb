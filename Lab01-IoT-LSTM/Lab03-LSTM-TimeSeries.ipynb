{
 "cells": [
  {
   "cell_type": "markdown",
   "metadata": {},
   "source": [
    "# Time series prediction with LSTM (IOT Data)\n",
    "\n",
    "![](images/rooftop-solar-power.jpg)\n",
    "\n",
    "[Solar power forecasting](https://en.wikipedia.org/wiki/Solar_power_forecasting) is a challenging and important problem. The solar energy generation forecasting problem is closely linked to the problem of weather variables forecasting. Indeed, this problem is usually split into two parts, on one hand focusing on the forecasting of solar PV or any other meteorological variable and on the other hand estimating the amount of energy that a concrete power plant will produce with the estimated meteorological resource. In general, the way to deal with this difficult problem is usually related to the spatial and temporal scales we are interested in. This tutorial focusses on a simplified forecasting model using previously generated data from solar panel to predict the future. \n",
    "\n",
    "Using historic daily production of a solar panel, we want to predict the total power production of the solar panel array for a day. We will be using the LSTM based time series prediction model to predict the daily output of a solar panel based on the initial readings of the day. \n",
    "\n",
    "\n",
    "\n",
    "We train the model with historical data of the solar panel. In our example we want to predict the total power production of the solar panel array for the day starting with the initial readings of the day. We start predicting after the first 2 readings and adjust the prediction with each new reading.\n",
    "\n"
   ]
  },
  {
   "cell_type": "markdown",
   "metadata": {},
   "source": [
    "## Code Walkthrough\n",
    "\n",
    "### Initialize environment\n"
   ]
  },
  {
   "cell_type": "code",
   "execution_count": 1,
   "metadata": {},
   "outputs": [
    {
     "name": "stderr",
     "output_type": "stream",
     "text": [
      "/home/demouser/anaconda3/lib/python3.6/site-packages/h5py/__init__.py:36: FutureWarning: Conversion of the second argument of issubdtype from `float` to `np.floating` is deprecated. In future, it will be treated as `np.float64 == np.dtype(float).type`.\n",
      "  from ._conv import register_converters as _register_converters\n"
     ]
    }
   ],
   "source": [
    "from matplotlib import pyplot as plt\n",
    "import math\n",
    "import numpy as np\n",
    "import os\n",
    "import pandas as pd\n",
    "import random\n",
    "import time\n",
    "from IPython.display import Image\n",
    "\n",
    "import tensorflow as tf\n",
    "\n",
    "%matplotlib inline\n",
    "\n",
    "\n",
    "# to make things reproduceable, seed random\n",
    "np.random.seed(0)\n"
   ]
  },
  {
   "cell_type": "markdown",
   "metadata": {},
   "source": [
    "### Data preparation\n",
    "\n",
    "Our solar panel, emits two measures at every 30 min interval:\n",
    "- `solar.current` is the current production in Watt\n",
    "- `solar.total` is the total produced for the day so far \n",
    "\n",
    "Our prediction approach involves starting with the first 2 initial readings of the day. Based on these readings we start predicting and adjust the prediction with each new reading. The training data we are going to use comes as a csv file and has the following format:\n",
    "\n",
    ">```\n",
    "time,solar.current,solar.total\n",
    "7am,6.3,1.7\n",
    "7:30am,44.3,11.4\n",
    "...\n",
    ">```\n",
    "\n",
    "The training dataset we use contains data captured for 3 years.\n",
    "The dataset is not pre-processed: it is raw data and contains smaller gaps and errors (like a panel failed to report).\n",
    "\n",
    "#### Pre-processing\n",
    "Most of the code in this example is related to data preparation. Thankfully the pandas library make this easy.\n",
    "\n",
    "`generate_solar_data()` function performs the following tasks:\n",
    "- read raw data into a pandas dataframe, \n",
    "- normalize the data, \n",
    "- groups by day and \n",
    "- append the columns \"solar.current.max\" and \"solar.total.max\", and\n",
    "- generates the sequences for each day.\n",
    "\n",
    "*Sequence generation*: All sequences are concatenated into a single list of sequences. There is *no more notion of timestamp* in our train input and **only** the sequences matter.\n",
    "\n",
    "**Note** if we have less than 8 datapoints for a day we skip over the day assuming something is missing in the raw data. If we get more than 14 data points in a day we truncate the readings.\n",
    "\n",
    "#### Training / Testing / Validation data preparation\n",
    "We split the dataset in the following manner: pick in sequence, 8 values for training, 1 for validation and 1 for test until there is no more data. This will spread training, validation and test datasets across the full timeline while preserving time order.\n"
   ]
  },
  {
   "cell_type": "code",
   "execution_count": 2,
   "metadata": {},
   "outputs": [],
   "source": [
    "from tensorflow.python.keras.preprocessing.sequence import pad_sequences\n",
    "\n",
    "def generate_solar_data(dataset_path, time_steps, normalize=1, val_size=0.1, test_size=0.1):\n",
    "    \"\"\"\n",
    "    generate sequences to feed to rnn based on data frame with solar panel data\n",
    "    the csv has the format: time ,solar.current, solar.total\n",
    "     (solar.current is the current output in Watt, solar.total is the total production\n",
    "      for the day so far in Watt hours)\n",
    "    \"\"\"\n",
    "    \n",
    "    df = pd.read_csv(dataset_path, index_col=\"time\", parse_dates=['time'], dtype=np.float32)\n",
    "    \n",
    "    df[\"date\"] = df.index.date\n",
    "    \n",
    "    # normalize data\n",
    "    df['solar.current'] /= normalize\n",
    "    df['solar.total'] /= normalize\n",
    "    \n",
    "    # group by day, find the max for a day and add a new column .max\n",
    "    grouped = df.groupby(df.index.date).max()\n",
    "    grouped.columns = [\"solar.current.max\", \"solar.total.max\", \"date\"]\n",
    "\n",
    "    # merge continuous readings and daily max values into a single frame\n",
    "    df_merged = pd.merge(df, grouped, right_index=True, on=\"date\")\n",
    "    df_merged = df_merged[[\"solar.current\", \"solar.total\",\n",
    "                           \"solar.current.max\", \"solar.total.max\"]]\n",
    "    # we group by day so we can process a day at a time.\n",
    "    grouped = df_merged.groupby(df_merged.index.date)\n",
    "    per_day = []\n",
    "    for _, group in grouped:\n",
    "        per_day.append(group)\n",
    "\n",
    "    # split the dataset into train, validatation and test sets on day boundaries\n",
    "    val_size = int(len(per_day) * val_size)\n",
    "    test_size = int(len(per_day) * test_size)\n",
    "    next_val = 0\n",
    "    next_test = 0\n",
    "\n",
    "    result_x = {\"train\": [], \"val\": [], \"test\": []}\n",
    "    result_y = {\"train\": [], \"val\": [], \"test\": []}    \n",
    "\n",
    "    # generate sequences a day at a time\n",
    "    for i, day in enumerate(per_day):\n",
    "        # if we have less than 8 datapoints for a day we skip over the\n",
    "        # day assuming something is missing in the raw data\n",
    "        total = day[\"solar.total\"].values.tolist()\n",
    "        if len(total) < 8:\n",
    "            continue\n",
    "        if i >= next_val:\n",
    "            current_set = \"val\"\n",
    "            next_val = i + int(len(per_day) / val_size)\n",
    "        elif i >= next_test:\n",
    "            current_set = \"test\"\n",
    "            next_test = i + int(len(per_day) / test_size)\n",
    "        else:\n",
    "            current_set = \"train\"\n",
    "        max_total_for_day = np.array(day[\"solar.total.max\"].values[0])\n",
    "        for j in range(2, len(total)):\n",
    "            result_x[current_set].append(total[0:j])\n",
    "            result_y[current_set].append([max_total_for_day])\n",
    "            if j >= time_steps:\n",
    "                break\n",
    "                \n",
    "    # pad result_x sequences with 0 and convert to numpy.array\n",
    "    # make result_y a numpy array\n",
    "    for ds in [\"train\", \"val\", \"test\"]:\n",
    "        sequences = pad_sequences(result_x[ds], dtype='float32')\n",
    "        sequences = sequences.reshape((len(sequences), TIMESTEPS, 1))\n",
    "        result_x[ds] = sequences\n",
    "        result_y[ds] = np.array(result_y[ds])\n",
    "    return result_x, result_y"
   ]
  },
  {
   "cell_type": "markdown",
   "metadata": {},
   "source": [
    "## Prepare data"
   ]
  },
  {
   "cell_type": "code",
   "execution_count": 3,
   "metadata": {},
   "outputs": [],
   "source": [
    "\n",
    "\n",
    "# We keep up to 14 readings from a day\n",
    "TIMESTEPS = 14\n",
    "\n",
    "# 20000 is the maximum total output in our dataset. We normalize all values with this so our inputs are between 0.0 and 1.0 range\n",
    "\n",
    "NORMALIZE = 20000\n",
    "\n",
    "X, Y = generate_solar_data('../../Data/IoT/solar.csv', TIMESTEPS, normalize=NORMALIZE)"
   ]
  },
  {
   "cell_type": "markdown",
   "metadata": {},
   "source": [
    "### Understand the data format\n",
    "You can now see the sequence we are going to feed to the LSTM. Note if we have less than 8 datapoints for a day we skip over the day assuming something is missing in the raw data. If we get more than 14 data points in a day we truncate the readings."
   ]
  },
  {
   "cell_type": "code",
   "execution_count": 4,
   "metadata": {},
   "outputs": [
    {
     "name": "stdout",
     "output_type": "stream",
     "text": [
      "(10747, 14, 1)\n",
      "[[[0.       ]\n",
      "  [0.       ]\n",
      "  [0.       ]\n",
      "  [0.       ]\n",
      "  [0.       ]\n",
      "  [0.       ]\n",
      "  [0.       ]\n",
      "  [0.       ]\n",
      "  [0.       ]\n",
      "  [0.       ]\n",
      "  [0.       ]\n",
      "  [0.       ]\n",
      "  [0.       ]\n",
      "  [0.0006985]]\n",
      "\n",
      " [[0.       ]\n",
      "  [0.       ]\n",
      "  [0.       ]\n",
      "  [0.       ]\n",
      "  [0.       ]\n",
      "  [0.       ]\n",
      "  [0.       ]\n",
      "  [0.       ]\n",
      "  [0.       ]\n",
      "  [0.       ]\n",
      "  [0.       ]\n",
      "  [0.       ]\n",
      "  [0.0006985]\n",
      "  [0.0033175]]\n",
      "\n",
      " [[0.       ]\n",
      "  [0.       ]\n",
      "  [0.       ]\n",
      "  [0.       ]\n",
      "  [0.       ]\n",
      "  [0.       ]\n",
      "  [0.       ]\n",
      "  [0.       ]\n",
      "  [0.       ]\n",
      "  [0.       ]\n",
      "  [0.       ]\n",
      "  [0.0006985]\n",
      "  [0.0033175]\n",
      "  [0.010375 ]]]\n"
     ]
    }
   ],
   "source": [
    "print(X['train'].shape)\n",
    "print(X['train'][0:3])"
   ]
  },
  {
   "cell_type": "code",
   "execution_count": 5,
   "metadata": {},
   "outputs": [
    {
     "name": "stdout",
     "output_type": "stream",
     "text": [
      "(10747, 1)\n",
      "[[0.239]\n",
      " [0.239]\n",
      " [0.239]]\n"
     ]
    }
   ],
   "source": [
    "print(Y['train'].shape)\n",
    "print(Y['train'][0:3])"
   ]
  },
  {
   "cell_type": "markdown",
   "metadata": {},
   "source": [
    "## Train LSTM network\n",
    "\n",
    "Corresponding  to the maximum possible 14 data points in the input sequence, we model our network with 14 LSTM cells, 1 cell for each data point we take during the day. Since the input sequences can have varied points per sequence, we take the advantage of CNTK support for variable sequences as input to a LSTM so we can feed our sequences as-is with no additional need for padding.\n",
    "\n",
    "The outputs from the LSTMs are fed into a dense layer and we randomly dropout 20% of the values to not overfit the model to the training set. The output of the dense layer becomes the prediction our model generates.\n",
    "\n",
    "Notice: We lost the timestamp altogether; in our model only the sequences of readings matter. \n",
    "\n",
    "Our LSTM model has the following design:\n",
    "![lstm](images/lstm.png)\n",
    "\n",
    "The network model is an exact translation of the network diagram above.\n",
    "\n",
    "### Define a network"
   ]
  },
  {
   "cell_type": "code",
   "execution_count": 6,
   "metadata": {},
   "outputs": [],
   "source": [
    "from tensorflow.python.keras.layers import Add\n",
    "from tensorflow.python.keras.layers import Dense\n",
    "from tensorflow.python.keras.layers import Dropout\n",
    "from tensorflow.python.keras.layers import Flatten\n",
    "from tensorflow.python.keras.layers import LSTM\n",
    "from tensorflow.python.keras.models import Sequential\n",
    "\n",
    "def network_model(hidden_size):\n",
    "    model = Sequential()\n",
    "    model.add(LSTM(hidden_size, return_sequences=False, input_shape=(TIMESTEPS, 1)))\n",
    "    model.add(Dropout(0.2))\n",
    "    model.add(Dense(1))\n",
    "    \n",
    "    return model\n",
    "\n",
    "hidden_size = 15\n",
    "optimizer = 'rmsprop'\n",
    "loss = 'mse'\n",
    "metrics = ['mse']\n",
    "\n",
    "model = network_model(hidden_size)\n",
    "\n",
    "model.compile(loss=loss, optimizer=optimizer, metrics=metrics)\n",
    "    "
   ]
  },
  {
   "cell_type": "markdown",
   "metadata": {},
   "source": [
    "### Train and evaluate"
   ]
  },
  {
   "cell_type": "code",
   "execution_count": 9,
   "metadata": {},
   "outputs": [
    {
     "name": "stdout",
     "output_type": "stream",
     "text": [
      "Train on 10747 samples, validate on 1351 samples\n",
      "Epoch 1/50\n",
      "10747/10747 [==============================] - 15s 1ms/step - loss: 0.0319 - mean_squared_error: 0.0319 - val_loss: 0.0121 - val_mean_squared_error: 0.0121\n",
      "Epoch 2/50\n",
      "10747/10747 [==============================] - 14s 1ms/step - loss: 0.0150 - mean_squared_error: 0.0150 - val_loss: 0.0092 - val_mean_squared_error: 0.0092\n",
      "Epoch 3/50\n",
      "10747/10747 [==============================] - 14s 1ms/step - loss: 0.0126 - mean_squared_error: 0.0126 - val_loss: 0.0081 - val_mean_squared_error: 0.0081\n",
      "Epoch 4/50\n",
      "10747/10747 [==============================] - 14s 1ms/step - loss: 0.0104 - mean_squared_error: 0.0104 - val_loss: 0.0070 - val_mean_squared_error: 0.0070\n",
      "Epoch 5/50\n",
      "10747/10747 [==============================] - 15s 1ms/step - loss: 0.0086 - mean_squared_error: 0.0086 - val_loss: 0.0054 - val_mean_squared_error: 0.0054\n",
      "Epoch 6/50\n",
      "10747/10747 [==============================] - 14s 1ms/step - loss: 0.0075 - mean_squared_error: 0.0075 - val_loss: 0.0055 - val_mean_squared_error: 0.0055\n",
      "Epoch 7/50\n",
      "10747/10747 [==============================] - 14s 1ms/step - loss: 0.0072 - mean_squared_error: 0.0072 - val_loss: 0.0049 - val_mean_squared_error: 0.0049\n",
      "Epoch 8/50\n",
      "10747/10747 [==============================] - 14s 1ms/step - loss: 0.0069 - mean_squared_error: 0.0069 - val_loss: 0.0046 - val_mean_squared_error: 0.0046\n",
      "Epoch 9/50\n",
      "10747/10747 [==============================] - 14s 1ms/step - loss: 0.0068 - mean_squared_error: 0.0068 - val_loss: 0.0046 - val_mean_squared_error: 0.0046\n",
      "Epoch 10/50\n",
      "10747/10747 [==============================] - 14s 1ms/step - loss: 0.0066 - mean_squared_error: 0.0066 - val_loss: 0.0048 - val_mean_squared_error: 0.0048\n",
      "Epoch 11/50\n",
      "10747/10747 [==============================] - 14s 1ms/step - loss: 0.0066 - mean_squared_error: 0.0066 - val_loss: 0.0044 - val_mean_squared_error: 0.0044\n",
      "Epoch 12/50\n",
      "10747/10747 [==============================] - 14s 1ms/step - loss: 0.0066 - mean_squared_error: 0.0066 - val_loss: 0.0043 - val_mean_squared_error: 0.0043\n",
      "Epoch 13/50\n",
      "10747/10747 [==============================] - 14s 1ms/step - loss: 0.0065 - mean_squared_error: 0.0065 - val_loss: 0.0043 - val_mean_squared_error: 0.0043\n",
      "Epoch 14/50\n",
      "10747/10747 [==============================] - 14s 1ms/step - loss: 0.0064 - mean_squared_error: 0.0064 - val_loss: 0.0050 - val_mean_squared_error: 0.0050\n",
      "Epoch 15/50\n",
      "10747/10747 [==============================] - 14s 1ms/step - loss: 0.0063 - mean_squared_error: 0.0063 - val_loss: 0.0043 - val_mean_squared_error: 0.0043\n",
      "Epoch 16/50\n",
      "10747/10747 [==============================] - 14s 1ms/step - loss: 0.0062 - mean_squared_error: 0.0062 - val_loss: 0.0041 - val_mean_squared_error: 0.0041\n",
      "Epoch 17/50\n",
      "10747/10747 [==============================] - 14s 1ms/step - loss: 0.0062 - mean_squared_error: 0.0062 - val_loss: 0.0042 - val_mean_squared_error: 0.0042\n",
      "Epoch 18/50\n",
      "10747/10747 [==============================] - 14s 1ms/step - loss: 0.0061 - mean_squared_error: 0.0061 - val_loss: 0.0041 - val_mean_squared_error: 0.0041\n",
      "Epoch 19/50\n",
      "10747/10747 [==============================] - 14s 1ms/step - loss: 0.0062 - mean_squared_error: 0.0062 - val_loss: 0.0045 - val_mean_squared_error: 0.0045\n",
      "Epoch 20/50\n",
      "10747/10747 [==============================] - 14s 1ms/step - loss: 0.0060 - mean_squared_error: 0.0060 - val_loss: 0.0042 - val_mean_squared_error: 0.0042\n",
      "Epoch 21/50\n",
      "10747/10747 [==============================] - 14s 1ms/step - loss: 0.0060 - mean_squared_error: 0.0060 - val_loss: 0.0043 - val_mean_squared_error: 0.0043\n",
      "Epoch 22/50\n",
      "10747/10747 [==============================] - 14s 1ms/step - loss: 0.0060 - mean_squared_error: 0.0060 - val_loss: 0.0041 - val_mean_squared_error: 0.0041\n",
      "Epoch 23/50\n",
      "10747/10747 [==============================] - 14s 1ms/step - loss: 0.0061 - mean_squared_error: 0.0061 - val_loss: 0.0041 - val_mean_squared_error: 0.0041\n",
      "Epoch 24/50\n",
      "10747/10747 [==============================] - 14s 1ms/step - loss: 0.0059 - mean_squared_error: 0.0059 - val_loss: 0.0039 - val_mean_squared_error: 0.0039\n",
      "Epoch 25/50\n",
      "10747/10747 [==============================] - 14s 1ms/step - loss: 0.0058 - mean_squared_error: 0.0058 - val_loss: 0.0038 - val_mean_squared_error: 0.0038\n",
      "Epoch 26/50\n",
      "10747/10747 [==============================] - 14s 1ms/step - loss: 0.0058 - mean_squared_error: 0.0058 - val_loss: 0.0040 - val_mean_squared_error: 0.0040\n",
      "Epoch 27/50\n",
      "10747/10747 [==============================] - 14s 1ms/step - loss: 0.0059 - mean_squared_error: 0.0059 - val_loss: 0.0038 - val_mean_squared_error: 0.0038\n",
      "Epoch 28/50\n",
      "10747/10747 [==============================] - 14s 1ms/step - loss: 0.0058 - mean_squared_error: 0.0058 - val_loss: 0.0037 - val_mean_squared_error: 0.0037\n",
      "Epoch 29/50\n",
      "10747/10747 [==============================] - 14s 1ms/step - loss: 0.0058 - mean_squared_error: 0.0058 - val_loss: 0.0037 - val_mean_squared_error: 0.0037\n",
      "Epoch 30/50\n",
      "10747/10747 [==============================] - 14s 1ms/step - loss: 0.0057 - mean_squared_error: 0.0057 - val_loss: 0.0036 - val_mean_squared_error: 0.0036\n",
      "Epoch 31/50\n",
      "10747/10747 [==============================] - 14s 1ms/step - loss: 0.0058 - mean_squared_error: 0.0058 - val_loss: 0.0036 - val_mean_squared_error: 0.0036\n",
      "Epoch 32/50\n",
      "10747/10747 [==============================] - 14s 1ms/step - loss: 0.0056 - mean_squared_error: 0.0056 - val_loss: 0.0036 - val_mean_squared_error: 0.0036\n",
      "Epoch 33/50\n",
      "10747/10747 [==============================] - 14s 1ms/step - loss: 0.0057 - mean_squared_error: 0.0057 - val_loss: 0.0035 - val_mean_squared_error: 0.0035\n",
      "Epoch 34/50\n",
      "10747/10747 [==============================] - 14s 1ms/step - loss: 0.0056 - mean_squared_error: 0.0056 - val_loss: 0.0035 - val_mean_squared_error: 0.0035\n",
      "Epoch 35/50\n",
      "10747/10747 [==============================] - 14s 1ms/step - loss: 0.0056 - mean_squared_error: 0.0056 - val_loss: 0.0041 - val_mean_squared_error: 0.0041\n",
      "Epoch 36/50\n",
      "10747/10747 [==============================] - 14s 1ms/step - loss: 0.0055 - mean_squared_error: 0.0055 - val_loss: 0.0035 - val_mean_squared_error: 0.0035\n",
      "Epoch 37/50\n",
      "10747/10747 [==============================] - 14s 1ms/step - loss: 0.0056 - mean_squared_error: 0.0056 - val_loss: 0.0035 - val_mean_squared_error: 0.0035\n",
      "Epoch 38/50\n",
      "10747/10747 [==============================] - 14s 1ms/step - loss: 0.0055 - mean_squared_error: 0.0055 - val_loss: 0.0040 - val_mean_squared_error: 0.0040\n",
      "Epoch 39/50\n",
      "10747/10747 [==============================] - 14s 1ms/step - loss: 0.0055 - mean_squared_error: 0.0055 - val_loss: 0.0039 - val_mean_squared_error: 0.0039\n",
      "Epoch 40/50\n",
      "10747/10747 [==============================] - 14s 1ms/step - loss: 0.0055 - mean_squared_error: 0.0055 - val_loss: 0.0037 - val_mean_squared_error: 0.0037\n",
      "Epoch 41/50\n",
      "10747/10747 [==============================] - 14s 1ms/step - loss: 0.0054 - mean_squared_error: 0.0054 - val_loss: 0.0033 - val_mean_squared_error: 0.0033\n",
      "Epoch 42/50\n",
      "10747/10747 [==============================] - 14s 1ms/step - loss: 0.0054 - mean_squared_error: 0.0054 - val_loss: 0.0031 - val_mean_squared_error: 0.0031\n",
      "Epoch 43/50\n",
      "10747/10747 [==============================] - 15s 1ms/step - loss: 0.0055 - mean_squared_error: 0.0055 - val_loss: 0.0037 - val_mean_squared_error: 0.0037\n",
      "Epoch 44/50\n",
      "10747/10747 [==============================] - 14s 1ms/step - loss: 0.0054 - mean_squared_error: 0.0054 - val_loss: 0.0032 - val_mean_squared_error: 0.0032\n",
      "Epoch 45/50\n",
      "10747/10747 [==============================] - 14s 1ms/step - loss: 0.0053 - mean_squared_error: 0.0053 - val_loss: 0.0034 - val_mean_squared_error: 0.0034\n",
      "Epoch 46/50\n",
      "10747/10747 [==============================] - 14s 1ms/step - loss: 0.0054 - mean_squared_error: 0.0054 - val_loss: 0.0035 - val_mean_squared_error: 0.0035\n",
      "Epoch 47/50\n",
      "10747/10747 [==============================] - 14s 1ms/step - loss: 0.0053 - mean_squared_error: 0.0053 - val_loss: 0.0031 - val_mean_squared_error: 0.0031\n",
      "Epoch 48/50\n",
      "10747/10747 [==============================] - 14s 1ms/step - loss: 0.0053 - mean_squared_error: 0.0053 - val_loss: 0.0031 - val_mean_squared_error: 0.0031\n",
      "Epoch 49/50\n",
      "10747/10747 [==============================] - 14s 1ms/step - loss: 0.0052 - mean_squared_error: 0.0052 - val_loss: 0.0031 - val_mean_squared_error: 0.0031\n",
      "Epoch 50/50\n",
      "10747/10747 [==============================] - 14s 1ms/step - loss: 0.0053 - mean_squared_error: 0.0053 - val_loss: 0.0033 - val_mean_squared_error: 0.0033\n"
     ]
    }
   ],
   "source": [
    "from tensorflow.python.keras.callbacks import TensorBoard\n",
    "from datetime import datetime\n",
    "\n",
    "\n",
    "batch_size = 14\n",
    "epochs = 50\n",
    "\n",
    "now = datetime.now().strftime(\"%d-%m-%y-%H-%M\")\n",
    "logdir = \"../../../logdir/{0}\".format(now)\n",
    "modelpath = \"../../../SaveModel/model-{0}.h5\".format(now)\n",
    "tensorboard = TensorBoard(log_dir=logdir)\n",
    "run_history = model.fit(X['train'], Y['train'], batch_size=batch_size, epochs=epochs, validation_data = (X['val'], Y['val']), callbacks = [tensorboard])\n",
    "model.save(modelpath)"
   ]
  },
  {
   "cell_type": "markdown",
   "metadata": {},
   "source": [
    "## Load model and predict"
   ]
  },
  {
   "cell_type": "code",
   "execution_count": 15,
   "metadata": {},
   "outputs": [],
   "source": [
    "from tensorflow.python.keras.models import load_model\n",
    "\n",
    "model = load_model(modelpath)"
   ]
  },
  {
   "cell_type": "code",
   "execution_count": 16,
   "metadata": {},
   "outputs": [],
   "source": [
    "result = model.predict(X['test'])"
   ]
  },
  {
   "cell_type": "code",
   "execution_count": 24,
   "metadata": {},
   "outputs": [
    {
     "data": {
      "text/plain": [
       "array([[0.505],\n",
       "       [0.505],\n",
       "       [0.505],\n",
       "       ...,\n",
       "       [0.276],\n",
       "       [0.276],\n",
       "       [0.276]], dtype=float32)"
      ]
     },
     "execution_count": 24,
     "metadata": {},
     "output_type": "execute_result"
    }
   ],
   "source": [
    "Y['test']"
   ]
  },
  {
   "cell_type": "code",
   "execution_count": 27,
   "metadata": {},
   "outputs": [
    {
     "data": {
      "text/plain": [
       "[<matplotlib.lines.Line2D at 0x7fd3652905c0>]"
      ]
     },
     "execution_count": 27,
     "metadata": {},
     "output_type": "execute_result"
    },
    {
     "data": {
      "image/png": "[encoded data removed]",
      "text/plain": [
       "<matplotlib.figure.Figure at 0x7fd3653091d0>"
      ]
     },
     "metadata": {},
     "output_type": "display_data"
    }
   ],
   "source": [
    "plt.plot(result)\n",
    "plt.plot(Y['test'])"
   ]
  },
  {
   "cell_type": "code",
   "execution_count": null,
   "metadata": {},
   "outputs": [],
   "source": []
  }
 ],
 "metadata": {
  "kernelspec": {
   "display_name": "Python 3",
   "language": "python",
   "name": "python3"
  },
  "language_info": {
   "codemirror_mode": {
    "name": "ipython",
    "version": 3
   },
   "file_extension": ".py",
   "mimetype": "text/x-python",
   "name": "python",
   "nbconvert_exporter": "python",
   "pygments_lexer": "ipython3",
   "version": "3.6.4"
  }
 },
 "nbformat": 4,
 "nbformat_minor": 2
}
