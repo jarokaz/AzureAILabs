{
 "cells": [
  {
   "cell_type": "markdown",
   "metadata": {},
   "source": [
    "# Set up Azure ML Workspace"
   ]
  },
  {
   "cell_type": "markdown",
   "metadata": {},
   "source": [
    "## Initialize Azure ML libraries"
   ]
  },
  {
   "cell_type": "code",
   "execution_count": 2,
   "metadata": {},
   "outputs": [
    {
     "name": "stdout",
     "output_type": "stream",
     "text": [
      "SDK Version: 0.1.0.1060109\n"
     ]
    }
   ],
   "source": [
    "import azureml.core\n",
    "\n",
    "print(\"SDK Version:\", azureml.core.VERSION)"
   ]
  },
  {
   "cell_type": "markdown",
   "metadata": {},
   "source": [
    "## Create a workspace"
   ]
  },
  {
   "cell_type": "code",
   "execution_count": 3,
   "metadata": {},
   "outputs": [],
   "source": [
    "subscription_id = \"952a710c-8d9c-40c1-9fec-f752138cc0b3\"\n",
    "resource_group = \"jkaml\"\n",
    "workspace_name = \"Lab01\"\n",
    "workspace_region = \"eastus2\""
   ]
  },
  {
   "cell_type": "code",
   "execution_count": 4,
   "metadata": {},
   "outputs": [
    {
     "data": {
      "text/plain": [
       "{'id': '/subscriptions/952a710c-8d9c-40c1-9fec-f752138cc0b3/resourceGroups/jkaml/providers/Microsoft.MachineLearningServices/workspaces/Lab01',\n",
       " 'name': 'Lab01',\n",
       " 'location': 'eastus2',\n",
       " 'type': 'Microsoft.MachineLearningServices/workspaces',\n",
       " 'description': '',\n",
       " 'friendlyName': 'Lab01',\n",
       " 'containerRegistry': '/subscriptions/952a710c-8d9c-40c1-9fec-f752138cc0b3/resourcegroups/jkaml/providers/microsoft.containerregistry/registries/labacrkuqnhhus',\n",
       " 'keyVault': '/subscriptions/952a710c-8d9c-40c1-9fec-f752138cc0b3/resourcegroups/jkaml/providers/microsoft.keyvault/vaults/labkeyvaultzpctsrxg',\n",
       " 'applicationInsights': '/subscriptions/952a710c-8d9c-40c1-9fec-f752138cc0b3/resourcegroups/jkaml/providers/microsoft.insights/components/labinsightsgxvvrjzg',\n",
       " 'identityPrincipalId': '631e2339-5832-4195-8013-70d41072f951',\n",
       " 'identityTenantId': '72f988bf-86f1-41af-91ab-2d7cd011db47',\n",
       " 'identityType': 'SystemAssigned',\n",
       " 'storageAccount': '/subscriptions/952a710c-8d9c-40c1-9fec-f752138cc0b3/resourcegroups/jkaml/providers/microsoft.storage/storageaccounts/labstoragestqwtgyo'}"
      ]
     },
     "execution_count": 4,
     "metadata": {},
     "output_type": "execute_result"
    }
   ],
   "source": [
    "from azureml.core import Workspace\n",
    "\n",
    "ws = Workspace.create(name = workspace_name,\n",
    "                      subscription_id = subscription_id,\n",
    "                      resource_group = resource_group, \n",
    "                      location = workspace_region)\n",
    "ws.get_details()"
   ]
  },
  {
   "cell_type": "markdown",
   "metadata": {},
   "source": [
    "### Save the workspace to a configuration file\n",
    "The file will be saved to the default path which is `./aml_config/config.json`"
   ]
  },
  {
   "cell_type": "code",
   "execution_count": 5,
   "metadata": {},
   "outputs": [
    {
     "name": "stdout",
     "output_type": "stream",
     "text": [
      "Wrote config.json to: /home/demouser/repos/AzureAILabs/Lab01-IoT-LSTM/aml_config/config.json\n"
     ]
    }
   ],
   "source": [
    "ws = Workspace(workspace_name = workspace_name,\n",
    "               subscription_id = subscription_id,\n",
    "               resource_group = resource_group)\n",
    "\n",
    "# persist the subscription id, resource group name, and workspace name in aml_config/config.json.\n",
    "ws.write_config()"
   ]
  },
  {
   "cell_type": "markdown",
   "metadata": {},
   "source": [
    "### Create a folder to host lab files"
   ]
  },
  {
   "cell_type": "code",
   "execution_count": 6,
   "metadata": {},
   "outputs": [
    {
     "name": "stdout",
     "output_type": "stream",
     "text": [
      "Sample projects will be created in ./source.\n"
     ]
    }
   ],
   "source": [
    "import os\n",
    "\n",
    "sample_projects_folder = './source'\n",
    "\n",
    "if not os.path.isdir(sample_projects_folder):\n",
    "    os.mkdir(sample_projects_folder)\n",
    "    \n",
    "print('Sample projects will be created in {}.'.format(sample_projects_folder))"
   ]
  },
  {
   "cell_type": "markdown",
   "metadata": {},
   "source": []
  }
 ],
 "metadata": {
  "kernelspec": {
   "display_name": "Python 3",
   "language": "python",
   "name": "python3"
  },
  "language_info": {
   "codemirror_mode": {
    "name": "ipython",
    "version": 3
   },
   "file_extension": ".py",
   "mimetype": "text/x-python",
   "name": "python",
   "nbconvert_exporter": "python",
   "pygments_lexer": "ipython3",
   "version": "3.6.5"
  }
 },
 "nbformat": 4,
 "nbformat_minor": 2
}
